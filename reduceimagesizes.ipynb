{
 "cells": [
  {
   "cell_type": "code",
   "execution_count": 3,
   "metadata": {},
   "outputs": [],
   "source": [
    "from PIL import Image\n",
    "import os \n",
    "import glob\n"
   ]
  },
  {
   "cell_type": "code",
   "execution_count": 10,
   "metadata": {},
   "outputs": [],
   "source": [
    "input_folders = [\"./hi\", \"./hi2\"]\n",
    "export_folder = './resized'\n",
    "pdf_path = './imagest.pdf'"
   ]
  },
  {
   "cell_type": "code",
   "execution_count": 24,
   "metadata": {},
   "outputs": [],
   "source": [
    "images = []\n",
    "\n",
    "for folder in input_folders:\n",
    "    if os.path.exists(folder):\n",
    "        images = images + (sorted(glob.glob(folder + '/*.jpg')))"
   ]
  },
  {
   "cell_type": "code",
   "execution_count": 30,
   "metadata": {},
   "outputs": [],
   "source": [
    "for i, image_path in enumerate(images):\n",
    "    image = Image.open(image_path)\n",
    "    basename = os.path.basename(image_path)\n",
    "    width, height = image.size\n",
    "    new_size = (width//4, height//4)\n",
    "    resized_image = image.resize(new_size)\n",
    "\n",
    "    resized_image.save(export_folder + \"/\" + basename, optimize=True, quality=50, dpi = (96,96))"
   ]
  },
  {
   "cell_type": "code",
   "execution_count": 32,
   "metadata": {},
   "outputs": [],
   "source": [
    "# save to pdf\n",
    "reduced_images = sorted(glob.glob(export_folder + '/*'))\n",
    "pil_images = [ Image.open(image_path) for image_path in reduced_images ]\n",
    "pil_images[0].save(\n",
    "    pdf_path, \"PDF\" ,resolution=30.0, save_all=True, append_images=pil_images[1:]\n",
    ")"
   ]
  }
 ],
 "metadata": {
  "kernelspec": {
   "display_name": "venv",
   "language": "python",
   "name": "venv"
  },
  "language_info": {
   "codemirror_mode": {
    "name": "ipython",
    "version": 3
   },
   "file_extension": ".py",
   "mimetype": "text/x-python",
   "name": "python",
   "nbconvert_exporter": "python",
   "pygments_lexer": "ipython3",
   "version": "3.8.8"
  }
 },
 "nbformat": 4,
 "nbformat_minor": 2
}
